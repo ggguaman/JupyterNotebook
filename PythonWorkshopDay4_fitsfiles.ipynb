{
 "cells": [
  {
   "cell_type": "code",
   "execution_count": 1,
   "id": "ea2fe809",
   "metadata": {},
   "outputs": [],
   "source": [
    "import numpy as np\n",
    "import matplotlib.pyplot as plt\n",
    "import astropy.io.fits as fits"
   ]
  },
  {
   "cell_type": "code",
   "execution_count": 4,
   "id": "60373583",
   "metadata": {},
   "outputs": [
    {
     "name": "stdout",
     "output_type": "stream",
     "text": [
      "/Users/mac/anaconda3/lib/python3.8/site-packages/astropy/io/fits/tests/data/test0.fits\n"
     ]
    }
   ],
   "source": [
    "#loading image\n",
    "fits_image_filename=fits.util.get_testdata_filepath('test0.fits')\n",
    "print(fits_image_filename)\n",
    "hdul=fits.open(fits_image_filename)"
   ]
  },
  {
   "cell_type": "code",
   "execution_count": 5,
   "id": "56674c51",
   "metadata": {},
   "outputs": [
    {
     "name": "stdout",
     "output_type": "stream",
     "text": [
      "/Users/mac/anaconda3/lib/python3.8/site-packages/astropy/io/fits/tests/data/\n",
      "test0.fit\n"
     ]
    }
   ],
   "source": [
    "dirname=fits_image_filename[0:fits_image_filename.rfind('/')+1]\n",
    "print(dirname)\n",
    "fname=fits_image_filename[fits_image_filename.rfind('/')+1:-1]\n",
    "print(fname)"
   ]
  },
  {
   "cell_type": "code",
   "execution_count": 6,
   "id": "94e0aad5",
   "metadata": {},
   "outputs": [
    {
     "name": "stdout",
     "output_type": "stream",
     "text": [
      "arange.fits                  \u001b[34minvalid\u001b[m\u001b[m/\r\n",
      "ascii.fits                   memtest.fits\r\n",
      "ascii_i4-i20.fits            o4sp040b0_raw.fits\r\n",
      "blank.fits                   random_groups.fits\r\n",
      "btable.fits                  scale.fits\r\n",
      "chandra_time.fits            stddata.fits\r\n",
      "checksum.fits                table.fits\r\n",
      "comp.fits                    tb.fits\r\n",
      "compressed_float_bzero.fits  tdim.fits\r\n",
      "compressed_image.fits        test0.fits\r\n",
      "fixed-1890.fits              test1.fits\r\n",
      "group.fits                   variable_length_table.fits\r\n",
      "history_header.fits          zerowidth.fits\r\n"
     ]
    }
   ],
   "source": [
    "ls /Users/mac/anaconda3/lib/python3.8/site-packages/astropy/io/fits/tests/data/"
   ]
  },
  {
   "cell_type": "code",
   "execution_count": 7,
   "id": "de35fe07",
   "metadata": {},
   "outputs": [
    {
     "name": "stdout",
     "output_type": "stream",
     "text": [
      "Filename: /Users/mac/anaconda3/lib/python3.8/site-packages/astropy/io/fits/tests/data/test0.fits\n",
      "No.    Name      Ver    Type      Cards   Dimensions   Format\n",
      "  0  PRIMARY       1 PrimaryHDU     138   ()      \n",
      "  1  SCI           1 ImageHDU        61   (40, 40)   int16   \n",
      "  2  SCI           2 ImageHDU        61   (40, 40)   int16   \n",
      "  3  SCI           3 ImageHDU        61   (40, 40)   int16   \n",
      "  4  SCI           4 ImageHDU        61   (40, 40)   int16   \n"
     ]
    }
   ],
   "source": [
    "hdul.info()"
   ]
  },
  {
   "cell_type": "code",
   "execution_count": 8,
   "id": "27ffd554",
   "metadata": {},
   "outputs": [
    {
     "data": {
      "text/plain": [
       "SIMPLE  =                    T / file does conform to FITS standard             \n",
       "BITPIX  =                   16 / number of bits per data pixel                  \n",
       "NAXIS   =                    0 / number of data axes                            \n",
       "EXTEND  =                    T / FITS dataset may contain extensions            \n",
       "GROUPS  =                    F / data has groups                                \n",
       "NEXTEND =                    4 / Number of standard extensions                  \n",
       "BSCALE  =           1.000000E0 / REAL = TAPE*BSCALE + BZERO                     \n",
       "BZERO   =           3.276800E4 /                                                \n",
       "ORIGIN  = 'NOAO-IRAF FITS Image Kernel Aug 1 1997' / FITS file originator       \n",
       "DATE    = '01/04/99  '         / Date FITS file was generated                   \n",
       "IRAF-TLM= 'xxx     '              / Time of last modification                   \n",
       "                                                                                \n",
       "              / GROUP PARAMETERS: OSS                                           \n",
       "                                                                                \n",
       "              / GROUP PARAMETERS: PODPS                                         \n",
       "                                                                                \n",
       "              / GROUP PARAMETERS: DATA QUALITY FILE SUMMARY                     \n",
       "                                                                                \n",
       "              / GROUP PARAMETERS: PHOTOMETRY                                    \n",
       "                                                                                \n",
       "              / GROUP PARAMETERS: IMAGE STATISTICS                              \n",
       "                                                                                \n",
       "              / WFPC-II DATA DESCRIPTOR KEYWORDS                                \n",
       "INSTRUME= 'WFPC2             ' / identifier for instrument used to acquire data \n",
       "ROOTNAME= 'U2EQ0201T         ' / rootname of the observation set                \n",
       "FILETYPE= 'SCI               ' / shp, ext, edq, sdq, sci                        \n",
       "                                                                                \n",
       "              / SCIENCE INSTRUMENT CONFIGURATION                                \n",
       "MODE    = 'AREA              ' / instr. mode: FULL (full res.), AREA (area int.)\n",
       "SERIALS = 'OFF               ' / serial clocks: ON, OFF                         \n",
       "                                                                                \n",
       "              / IMAGE TYPE CHARACTERISTICS                                      \n",
       "IMAGETYP= 'EXT               ' / type of exposure identifier                    \n",
       "CDBSFILE= 'NO                ' / GENERIC/BIAS/DARK/PREF/FLAT/MASK/ATOD/NO       \n",
       "PKTFMT  =                   96 / packet format code                             \n",
       "                                                                                \n",
       "              / FILTER CONFIGURATION                                            \n",
       "FILTNAM1= 'F673N             ' / first filter name                              \n",
       "FILTNAM2= '                  ' / 2nd    filter name                             \n",
       "FILTER1 =                   33 / first filter number (0-48)                     \n",
       "FILTER2 =                    0 / second filter number (0-48)                    \n",
       "FILTROT =             0.000000 / partial filter rotation angle (degrees)        \n",
       "LRFWAVE =                  0.0 / linear ramp filter wavelength                  \n",
       "                                                                                \n",
       "              / INSTRUMENT STATUS USED IN DATA PROCESSING                       \n",
       "UCH1CJTM=             -88.3486 / TEC cold junction #1 temperature (Celsius)     \n",
       "UCH2CJTM=             -88.8073 / TEC cold junction #2 temperature (Celsius)     \n",
       "UCH3CJTM=             -88.3945 / TEC cold junction #3 temperature (Celsius)     \n",
       "UCH4CJTM=             -88.9041 / TEC cold junction #4 temperature (Celsius)     \n",
       "UBAY3TMP=              14.5969 / bay 3 A1 temperature (deg C)                   \n",
       "KSPOTS  = 'OFF               ' / Status of Kelsall spot lamps: ON, OFF          \n",
       "SHUTTER = 'B                 ' / Shutter in place at beginning of the exposure  \n",
       "ATODGAIN=                  7.0 / Analog to Digital Gain (Electrons/DN)          \n",
       "                                                                                \n",
       "              / RSDP CONTROL KEYWORDS                                           \n",
       "MASKCORR= 'PERFORM           ' / Do mask correction: PERFORM, OMIT, COMPLETE    \n",
       "ATODCORR= 'PERFORM           ' / Do A-to-D correction: PERFORM, OMIT, COMPLETE  \n",
       "BLEVCORR= 'PERFORM           ' / Do bias level correction                       \n",
       "BIASCORR= 'PERFORM           ' / Do bias correction: PERFORM, OMIT, COMPLETE    \n",
       "DARKCORR= 'OMIT              ' / Do dark correction: PERFORM, OMIT, COMPLETE    \n",
       "FLATCORR= 'PERFORM           ' / Do flat field correction                       \n",
       "SHADCORR= 'PERFORM           ' / Do shaded shutter correction                   \n",
       "DOSATMAP= 'OMIT              ' / Output saturated pixel map                     \n",
       "DOPHOTOM= 'PERFORM           ' / Fill photometry keywords                       \n",
       "DOHISTOS= 'OMIT              ' / Make histograms: PERFORM, OMIT, COMPLETE       \n",
       "OUTDTYPE= 'REAL              ' / Output image datatype: REAL, LONG, SHORT       \n",
       "                                                                                \n",
       "              / CALIBRATION REFERENCE FILES                                     \n",
       "MASKFILE= 'uref$fan15478u.r0h' / name of the input DQF of known bad pixels      \n",
       "ATODFILE= 'uref$e1b09594u.r1h' / name of the A-to-D conversion file             \n",
       "BLEVFILE= 'ucal$u2eq0201t.x0h' / Engineering file with extended register data   \n",
       "BLEVDFIL= 'ucal$u2eq0201t.q1h' / Engineering file DQF                           \n",
       "BIASFILE= 'uref$e6o0937du.r2h' / name of the bias frame reference file          \n",
       "BIASDFIL= 'uref$e6o0937du.b2h' / name of the bias frame reference DQF           \n",
       "DARKFILE= 'uref$e6o09384u.r3h' / name of the dark reference file                \n",
       "DARKDFIL= 'uref$e6o09384u.b3h' / name of the dark reference DQF                 \n",
       "FLATFILE= 'uref$e1c1404ju.r4h' / name of the flat field reference file          \n",
       "FLATDFIL= 'uref$e1c1404ju.b4h' / name of the flat field reference DQF           \n",
       "SHADFILE= 'uref$e6o09405u.r5h' / name of the reference file for shutter shading \n",
       "PHOTTAB = '                  ' / name of the photometry calibration table       \n",
       "GRAPHTAB= 'mtab$f7d1401pm.tmg' / the HST graph table                            \n",
       "COMPTAB = 'mtab$f7j1535pm.tmc' / the HST components table                       \n",
       "                                                                                \n",
       "              / DEFAULT KEYWORDS SET BY STSCI                                   \n",
       "SATURATE=                 4095 / Data value at which saturation occurs          \n",
       "USCALE  =                  1.0 / Scale factor for output image                  \n",
       "UZERO   =                  0.0 / Zero point for output image                    \n",
       "                                                                                \n",
       "              / READOUT DURATION INFORMATION                                    \n",
       "READTIME=                  151 / Length of time for CCD readout in clock ticks  \n",
       "                                                                                \n",
       "              / PLANETARY SCIENCE KEYWORDS                                      \n",
       "PA_V3   =        292.387786865 / position angle of v3 of HST (deg)              \n",
       "RA_SUN  =        56.2731208362 / right ascension of the sun (deg)               \n",
       "DEC_SUN =        19.8289107164 / declination of the sun (deg)                   \n",
       "EQNX_SUN=               2000.0 / equinox of the sun                             \n",
       "MTFLAG  =                    T / moving target flag; T if it is a moving target \n",
       "EQRADTRG=                  0.0 / equatorial radius of target (km)               \n",
       "FLATNTRG=                  0.0 / flattening of target                           \n",
       "NPDECTRG=                  0.0 / north pole declination of target (deg)         \n",
       "NPRATRG =                  0.0 / north pole right ascension of target (deg)     \n",
       "ROTRTTRG=                  0.0 / rotation rate of target                        \n",
       "LONGPMER=                  0.0 / longitude of prime meridian (deg)              \n",
       "EPLONGPM=                  0.0 / epoch of longitude of prime meridian (sec)     \n",
       "SURFLATD=                  0.0 / surface feature latitude (deg)                 \n",
       "SURFLONG=                  0.0 / surface feature longitude (deg)                \n",
       "SURFALTD=                  0.0 / surface feature altitude (km)                  \n",
       "                                                                                \n",
       "              / PODPS FILL VALUES                                               \n",
       "PODPSFF =                    F / podps fill present (T/F)                       \n",
       "STDCFFF =                    F / ST DDF fill present (T/F)                      \n",
       "STDCFFP = '0x5569            ' / ST DDF fill pattern (hex)                      \n",
       "RSDPFILL=                 -100 / bad data fill value for calibrated images      \n",
       "                                                                                \n",
       "              / EXPOSURE TIME AND RELATED INFORMATION                           \n",
       "UEXPODUR=                    0 / commanded duration of exposure (sec)           \n",
       "NSHUTA17=                    0 / Number of AP17 shutter B closes                \n",
       "DARKTIME=   2.300000000000E-01 / Dark time (seconds)                            \n",
       "UEXPOTIM=                20272 / Major frame pulse time preceding exposure start\n",
       "PSTRTIME= '1994.139:15:41:39 ' / predicted obs. start time (yyyy.ddd:hh:mm:ss)  \n",
       "PSTPTIME= '1994.139:16:14:39 ' / predicted obs. stop time (yyyy.ddd:hh:mm:ss)   \n",
       "                                                                                \n",
       "                                                                                \n",
       "              / EXPOSURE INFORMATION                                            \n",
       "                                                                                \n",
       "ORIENTAT=              157.076 / position angle of image y axis (deg. e of n)   \n",
       "SUNANGLE=           158.939133 / angle between sun and V1 axis (deg)            \n",
       "MOONANGL=            54.995346 / angle between moon and V1 axis                 \n",
       "SUN_ALT =           -11.552458 / altitude of the sun above Earth's limb         \n",
       "FGSLOCK = 'FINE              ' / commanded FGS lock (FINE,COARSE,GYROS,UNKNOWN) \n",
       "                                                                                \n",
       "DATE-OBS= '19/05/94          ' / UT date of start of observation (dd/mm/yy)     \n",
       "TIME-OBS= '15:41:16          ' / UT time of start of observation (hh:mm:ss)     \n",
       "EXPSTART=   4.949165366175E+04 / exposure start time (Modified Julian Date)     \n",
       "EXPEND  =   4.949165366441E+04 / exposure end time (Modified Julian Date)       \n",
       "EXPTIME =   2.300000000000E-01 / exposure duration (seconds)--calculated        \n",
       "EXPFLAG = 'NORMAL            ' / Exposure interruption indicator                \n",
       "FILENAME= 'vtest3.fits'        / File name                                      "
      ]
     },
     "execution_count": 8,
     "metadata": {},
     "output_type": "execute_result"
    }
   ],
   "source": [
    "hdul[0].header"
   ]
  },
  {
   "cell_type": "code",
   "execution_count": 9,
   "id": "20f2d06a",
   "metadata": {},
   "outputs": [
    {
     "data": {
      "text/plain": [
       "'NOAO-IRAF FITS Image Kernel Aug 1 1997'"
      ]
     },
     "execution_count": 9,
     "metadata": {},
     "output_type": "execute_result"
    }
   ],
   "source": [
    "hdul[0].header['ORIGIN']"
   ]
  },
  {
   "cell_type": "code",
   "execution_count": 12,
   "id": "de432972",
   "metadata": {},
   "outputs": [
    {
     "data": {
      "text/plain": [
       "numpy.ndarray"
      ]
     },
     "execution_count": 12,
     "metadata": {},
     "output_type": "execute_result"
    }
   ],
   "source": [
    "image1=hdul[1].data\n",
    "image2=hdul[2].data\n",
    "image3=hdul[3].data\n",
    "type(image1)"
   ]
  },
  {
   "cell_type": "code",
   "execution_count": 13,
   "id": "9833424f",
   "metadata": {},
   "outputs": [
    {
     "data": {
      "text/plain": [
       "<matplotlib.image.AxesImage at 0x7fc59a44afd0>"
      ]
     },
     "execution_count": 13,
     "metadata": {},
     "output_type": "execute_result"
    },
    {
     "data": {
      "image/png": "[encoded data removed]",
      "text/plain": [
       "<Figure size 864x288 with 3 Axes>"
      ]
     },
     "metadata": {
      "needs_background": "light"
     },
     "output_type": "display_data"
    }
   ],
   "source": [
    "fig,ax=plt.subplots(1,3,figsize=(12,4))\n",
    "ax[0].imshow(image1)\n",
    "ax[1].imshow(image2)\n",
    "ax[2].imshow(image3)"
   ]
  },
  {
   "cell_type": "code",
   "execution_count": 14,
   "id": "63fc06de",
   "metadata": {},
   "outputs": [
    {
     "name": "stdout",
     "output_type": "stream",
     "text": [
      "/Users/mac/anaconda3/lib/python3.8/site-packages/astropy/io/fits/tests/data/table.fits\n",
      "Filename: /Users/mac/anaconda3/lib/python3.8/site-packages/astropy/io/fits/tests/data/table.fits\n",
      "No.    Name      Ver    Type      Cards   Dimensions   Format\n",
      "  0  PRIMARY       1 PrimaryHDU       4   ()      \n",
      "  1                1 BinTableHDU     12   3R x 2C   [20A, E]   \n"
     ]
    }
   ],
   "source": [
    "fits_table_filename=fits.util.get_testdata_filepath('table.fits')\n",
    "print(fits_table_filename)\n",
    "hdul=fits.open(fits_table_filename)\n",
    "hdul.info()"
   ]
  },
  {
   "cell_type": "code",
   "execution_count": 15,
   "id": "03f683aa",
   "metadata": {},
   "outputs": [
    {
     "data": {
      "text/plain": [
       "SIMPLE  =                    T / conforms to FITS standard                      \n",
       "BITPIX  =                    8 / array data type                                \n",
       "NAXIS   =                    0 / number of array dimensions                     \n",
       "EXTEND  =                    T                                                  "
      ]
     },
     "execution_count": 15,
     "metadata": {},
     "output_type": "execute_result"
    }
   ],
   "source": [
    "hdul[0].header"
   ]
  },
  {
   "cell_type": "code",
   "execution_count": 16,
   "id": "bd6bbc1b",
   "metadata": {},
   "outputs": [
    {
     "data": {
      "text/plain": [
       "ColDefs(\n",
       "    name = 'target'; format = '20A'\n",
       "    name = 'V_mag'; format = 'E'\n",
       ")"
      ]
     },
     "execution_count": 16,
     "metadata": {},
     "output_type": "execute_result"
    }
   ],
   "source": [
    "data=hdul[1].data\n",
    "hdul[1].columns"
   ]
  },
  {
   "cell_type": "code",
   "execution_count": 18,
   "id": "8707fbf2",
   "metadata": {},
   "outputs": [
    {
     "name": "stdout",
     "output_type": "stream",
     "text": [
      "['NGC1001' 'NGC1002' 'NGC1003'] [11.1 12.3 15.2]\n"
     ]
    }
   ],
   "source": [
    "print(data['target'],data['V_mag'])"
   ]
  },
  {
   "cell_type": "code",
   "execution_count": 19,
   "id": "c117284d",
   "metadata": {},
   "outputs": [
    {
     "data": {
      "text/plain": [
       "numpy.ndarray"
      ]
     },
     "execution_count": 19,
     "metadata": {},
     "output_type": "execute_result"
    }
   ],
   "source": [
    "type(data['V_mag'])"
   ]
  },
  {
   "cell_type": "code",
   "execution_count": 33,
   "id": "eccf9349",
   "metadata": {},
   "outputs": [],
   "source": [
    "vmag,color,parallax,error=np.loadtxt(\"http://burro.astr.cwru.edu/Academics/Astr221/HW/HW5/yaletrigplx.dat\", unpack=True, usecols=(1,2,3,4))"
   ]
  },
  {
   "cell_type": "code",
   "execution_count": 21,
   "id": "a38aab4b",
   "metadata": {},
   "outputs": [
    {
     "data": {
      "text/plain": [
       "(6220, 5)"
      ]
     },
     "execution_count": 21,
     "metadata": {},
     "output_type": "execute_result"
    }
   ],
   "source": [
    "data.shape"
   ]
  },
  {
   "cell_type": "code",
   "execution_count": 22,
   "id": "839f6733",
   "metadata": {},
   "outputs": [
    {
     "data": {
      "text/plain": [
       "array([[2.00e+00, 4.61e+00, 1.04e+00, 1.35e-02, 1.49e+02],\n",
       "       [3.00e+00, 8.45e+00, 1.05e+00, 7.17e-02, 1.13e+02]])"
      ]
     },
     "execution_count": 22,
     "metadata": {},
     "output_type": "execute_result"
    }
   ],
   "source": [
    "data[0:2]"
   ]
  },
  {
   "cell_type": "code",
   "execution_count": 37,
   "id": "bc94bfa6",
   "metadata": {},
   "outputs": [
    {
     "data": {
      "text/plain": [
       "<matplotlib.collections.PathCollection at 0x7fc59af13880>"
      ]
     },
     "execution_count": 37,
     "metadata": {},
     "output_type": "execute_result"
    },
    {
     "data": {
      "image/png": "[encoded data removed]",
      "text/plain": [
       "<Figure size 432x288 with 1 Axes>"
      ]
     },
     "metadata": {
      "needs_background": "light"
     },
     "output_type": "display_data"
    }
   ],
   "source": [
    "plt.ylim([18,-1])\n",
    "d=1/parallax\n",
    "M=vmag-5*np.log10(d/10)\n",
    "plt.scatter(color,M)"
   ]
  },
  {
   "cell_type": "code",
   "execution_count": null,
   "id": "26ce821c",
   "metadata": {},
   "outputs": [],
   "source": []
  }
 ],
 "metadata": {
  "kernelspec": {
   "display_name": "Python 3",
   "language": "python",
   "name": "python3"
  },
  "language_info": {
   "codemirror_mode": {
    "name": "ipython",
    "version": 3
   },
   "file_extension": ".py",
   "mimetype": "text/x-python",
   "name": "python",
   "nbconvert_exporter": "python",
   "pygments_lexer": "ipython3",
   "version": "3.8.8"
  }
 },
 "nbformat": 4,
 "nbformat_minor": 5
}
