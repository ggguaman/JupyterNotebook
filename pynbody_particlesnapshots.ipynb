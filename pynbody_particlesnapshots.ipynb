{
 "cells": [
  {
   "cell_type": "code",
   "execution_count": 3,
   "id": "c9e79e34",
   "metadata": {},
   "outputs": [],
   "source": [
    "import pynbody"
   ]
  },
  {
   "cell_type": "code",
   "execution_count": 4,
   "id": "1722fa43",
   "metadata": {},
   "outputs": [],
   "source": [
    "#loading high redshift\n",
    "f1 = pynbody.load(\"/Users/mac/Desktop/tutorial_gadget/snapshot_018\")"
   ]
  },
  {
   "cell_type": "code",
   "execution_count": 5,
   "id": "9f5d9760",
   "metadata": {},
   "outputs": [],
   "source": [
    "#loading low redshift\n",
    "f2 = pynbody.load(\"/Users/mac/Desktop/tutorial_gadget/snapshot_020\")"
   ]
  },
  {
   "cell_type": "code",
   "execution_count": 6,
   "id": "042b8428",
   "metadata": {},
   "outputs": [
    {
     "data": {
      "text/plain": [
       "'f1 redshift=0.48; f2 redshift=0.00'"
      ]
     },
     "execution_count": 6,
     "metadata": {},
     "output_type": "execute_result"
    }
   ],
   "source": [
    "#verifying redshifts\n",
    "\"f1 redshift=%.2f; f2 redshift=%.2f\"%(f1.properties['z'], f2.properties['z'])"
   ]
  },
  {
   "cell_type": "code",
   "execution_count": 7,
   "id": "f96a236d",
   "metadata": {},
   "outputs": [],
   "source": [
    "#loading halo at low redshift\n",
    "h2 = f2.halos()"
   ]
  },
  {
   "cell_type": "code",
   "execution_count": 8,
   "id": "e98ef588",
   "metadata": {},
   "outputs": [],
   "source": [
    "#creating bridge between f1 and f2\n",
    "b = f2.bridge(f1)"
   ]
  },
  {
   "cell_type": "code",
   "execution_count": 9,
   "id": "d76ad8d3",
   "metadata": {},
   "outputs": [],
   "source": [
    "#looking where halo 9 particles from low redshift came from in high redshift\n",
    "progenitor_particles = b(h2[9]) #contains halo 9 particles from high redshift"
   ]
  },
  {
   "cell_type": "code",
   "execution_count": 10,
   "id": "b1f34138",
   "metadata": {},
   "outputs": [
    {
     "data": {
      "text/plain": [
       "SimArray([1703383, 1637974, 1706077, ..., 2085209,   20825,    4440])"
      ]
     },
     "execution_count": 10,
     "metadata": {},
     "output_type": "execute_result"
    }
   ],
   "source": [
    "#verifying\n",
    "h2[9]['iord']"
   ]
  },
  {
   "cell_type": "code",
   "execution_count": 11,
   "id": "280f2c4a",
   "metadata": {},
   "outputs": [
    {
     "data": {
      "text/plain": [
       "SimArray([1703383, 1637974, 1706077, ..., 2085209,   20825,    4440])"
      ]
     },
     "execution_count": 11,
     "metadata": {},
     "output_type": "execute_result"
    }
   ],
   "source": [
    "#verifying\n",
    "progenitor_particles['iord']"
   ]
  },
  {
   "cell_type": "code",
   "execution_count": 12,
   "id": "24c0f947",
   "metadata": {},
   "outputs": [
    {
     "data": {
      "text/plain": [
       "True"
      ]
     },
     "execution_count": 12,
     "metadata": {},
     "output_type": "execute_result"
    }
   ],
   "source": [
    "#verifying\n",
    "all(h2[9]['iord'] == progenitor_particles['iord'])"
   ]
  },
  {
   "cell_type": "code",
   "execution_count": 13,
   "id": "c7e4e3d7",
   "metadata": {},
   "outputs": [
    {
     "data": {
      "text/plain": [
       "SimArray([44.0088008 , 43.99995   , 44.06862841, ..., 46.11663313,\n",
       "          46.11094241, 46.1493806 ], 'Mpc a h**-1')"
      ]
     },
     "execution_count": 13,
     "metadata": {},
     "output_type": "execute_result"
    }
   ],
   "source": [
    "progenitor_particles['x']"
   ]
  },
  {
   "cell_type": "code",
   "execution_count": 14,
   "id": "544d8d40",
   "metadata": {},
   "outputs": [
    {
     "data": {
      "text/plain": [
       "SimArray([45.55277015, 45.56460556, 45.54647529, ..., 44.46931648,\n",
       "          44.53770257, 44.43297325], 'Mpc a h**-1')"
      ]
     },
     "execution_count": 14,
     "metadata": {},
     "output_type": "execute_result"
    }
   ],
   "source": [
    "h2[9]['x']"
   ]
  },
  {
   "cell_type": "code",
   "execution_count": 15,
   "id": "5a447f59",
   "metadata": {},
   "outputs": [],
   "source": [
    "#Identifying halos between different outputs\n",
    "cat = b.match_catalog()"
   ]
  },
  {
   "cell_type": "code",
   "execution_count": 16,
   "id": "89ccb46c",
   "metadata": {},
   "outputs": [
    {
     "data": {
      "text/plain": [
       "array([-2, 17,  2,  3,  5,  7, 19,  9, 10, 12, 14, 13, -1, -1, 28, 15, -1,\n",
       "       27, 16, 20, 26, 22, 18, -1, -1, 21, -1, 23, 24, -1, -1])"
      ]
     },
     "execution_count": 16,
     "metadata": {},
     "output_type": "execute_result"
    }
   ],
   "source": [
    "cat"
   ]
  },
  {
   "cell_type": "code",
   "execution_count": null,
   "id": "e8fa385a",
   "metadata": {},
   "outputs": [],
   "source": []
  }
 ],
 "metadata": {
  "kernelspec": {
   "display_name": "Python 3",
   "language": "python",
   "name": "python3"
  },
  "language_info": {
   "codemirror_mode": {
    "name": "ipython",
    "version": 3
   },
   "file_extension": ".py",
   "mimetype": "text/x-python",
   "name": "python",
   "nbconvert_exporter": "python",
   "pygments_lexer": "ipython3",
   "version": "3.8.8"
  }
 },
 "nbformat": 4,
 "nbformat_minor": 5
}
