{
 "cells": [
  {
   "cell_type": "code",
   "execution_count": 1,
   "id": "6d024b41",
   "metadata": {},
   "outputs": [
    {
     "name": "stdout",
     "output_type": "stream",
     "text": [
      "6.6743e-11\n"
     ]
    }
   ],
   "source": [
    "import scipy.constants as cons\n",
    "print(cons.G)"
   ]
  },
  {
   "cell_type": "code",
   "execution_count": null,
   "id": "bfe1f06f",
   "metadata": {},
   "outputs": [],
   "source": [
    "import astropy.constants as\n",
    "print(cons.G)"
   ]
  },
  {
   "cell_type": "code",
   "execution_count": 2,
   "id": "84c49989",
   "metadata": {},
   "outputs": [
    {
     "name": "stdout",
     "output_type": "stream",
     "text": [
      "8.387172739141742e-10\n"
     ]
    }
   ],
   "source": [
    "import numpy as np\n",
    "print(4*np.pi*cons.G)"
   ]
  },
  {
   "cell_type": "code",
   "execution_count": 3,
   "id": "8808fd2a",
   "metadata": {},
   "outputs": [
    {
     "name": "stdout",
     "output_type": "stream",
     "text": [
      "10.0 m\n"
     ]
    }
   ],
   "source": [
    "import astropy.units as u\n",
    "print(10*u.m)"
   ]
  },
  {
   "cell_type": "code",
   "execution_count": 4,
   "id": "9fa7b665",
   "metadata": {},
   "outputs": [],
   "source": [
    "area=10*u.m*10*u.cm"
   ]
  },
  {
   "cell_type": "code",
   "execution_count": 5,
   "id": "6c9eb997",
   "metadata": {},
   "outputs": [
    {
     "data": {
      "text/latex": [
       "$10000 \\; \\mathrm{cm^{2}}$"
      ],
      "text/plain": [
       "<Quantity 10000. cm2>"
      ]
     },
     "execution_count": 5,
     "metadata": {},
     "output_type": "execute_result"
    }
   ],
   "source": [
    "area.to('cm2')"
   ]
  },
  {
   "cell_type": "code",
   "execution_count": null,
   "id": "95b859b2",
   "metadata": {},
   "outputs": [],
   "source": []
  }
 ],
 "metadata": {
  "kernelspec": {
   "display_name": "Python 3",
   "language": "python",
   "name": "python3"
  },
  "language_info": {
   "codemirror_mode": {
    "name": "ipython",
    "version": 3
   },
   "file_extension": ".py",
   "mimetype": "text/x-python",
   "name": "python",
   "nbconvert_exporter": "python",
   "pygments_lexer": "ipython3",
   "version": "3.8.8"
  }
 },
 "nbformat": 4,
 "nbformat_minor": 5
}
