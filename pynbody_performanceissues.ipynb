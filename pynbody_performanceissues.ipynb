{
 "cells": [
  {
   "cell_type": "code",
   "execution_count": 1,
   "id": "fbd98377",
   "metadata": {},
   "outputs": [],
   "source": [
    "import numpy as np"
   ]
  },
  {
   "cell_type": "code",
   "execution_count": 2,
   "id": "b79eec06",
   "metadata": {},
   "outputs": [],
   "source": [
    "#using a slice of an existing numpy array\n",
    "a = np.zeros(10)"
   ]
  },
  {
   "cell_type": "code",
   "execution_count": 3,
   "id": "ba838203",
   "metadata": {},
   "outputs": [],
   "source": [
    "b = a[3:5]"
   ]
  },
  {
   "cell_type": "code",
   "execution_count": 4,
   "id": "62a321dc",
   "metadata": {},
   "outputs": [],
   "source": [
    "b[1] = 100"
   ]
  },
  {
   "cell_type": "code",
   "execution_count": 5,
   "id": "b99b119b",
   "metadata": {},
   "outputs": [
    {
     "data": {
      "text/plain": [
       "array([  0.,   0.,   0.,   0., 100.,   0.,   0.,   0.,   0.,   0.])"
      ]
     },
     "execution_count": 5,
     "metadata": {},
     "output_type": "execute_result"
    }
   ],
   "source": [
    "#changing b updated a\n",
    "a"
   ]
  },
  {
   "cell_type": "code",
   "execution_count": 6,
   "id": "a0db4c96",
   "metadata": {},
   "outputs": [],
   "source": [
    "#indexing a numpy array\n",
    "c = a[[4,5,6]]"
   ]
  },
  {
   "cell_type": "code",
   "execution_count": 7,
   "id": "cdac3cab",
   "metadata": {},
   "outputs": [],
   "source": [
    "c[1] = 200"
   ]
  },
  {
   "cell_type": "code",
   "execution_count": 8,
   "id": "3db7f9f5",
   "metadata": {},
   "outputs": [
    {
     "data": {
      "text/plain": [
       "array([  0.,   0.,   0.,   0., 100.,   0.,   0.,   0.,   0.,   0.])"
      ]
     },
     "execution_count": 8,
     "metadata": {},
     "output_type": "execute_result"
    }
   ],
   "source": [
    "#changing c doesn't update a because c copied the relevant data instead of pointing back at it\n",
    "a"
   ]
  },
  {
   "cell_type": "code",
   "execution_count": 10,
   "id": "b7532d42",
   "metadata": {},
   "outputs": [],
   "source": [
    "import pynbody"
   ]
  },
  {
   "cell_type": "code",
   "execution_count": 11,
   "id": "a724fb0e",
   "metadata": {},
   "outputs": [],
   "source": [
    "#IndexedSubArray class fixes this problem\n",
    "d = pynbody.array.IndexedSimArray(a, [4,5,6])"
   ]
  },
  {
   "cell_type": "code",
   "execution_count": 12,
   "id": "022d9868",
   "metadata": {},
   "outputs": [],
   "source": [
    "d[1] = 200"
   ]
  },
  {
   "cell_type": "code",
   "execution_count": 13,
   "id": "adc809b3",
   "metadata": {},
   "outputs": [
    {
     "data": {
      "text/plain": [
       "array([  0.,   0.,   0.,   0., 100., 200.,   0.,   0.,   0.,   0.])"
      ]
     },
     "execution_count": 13,
     "metadata": {},
     "output_type": "execute_result"
    }
   ],
   "source": [
    "#a has been updated because the IndexedSimArray emulates rather than wrapping a numpy array\n",
    "a"
   ]
  },
  {
   "cell_type": "code",
   "execution_count": 14,
   "id": "0498447a",
   "metadata": {},
   "outputs": [
    {
     "name": "stdout",
     "output_type": "stream",
     "text": [
      "CPU times: user 173 ms, sys: 5.63 ms, total: 178 ms\n",
      "Wall time: 186 ms\n"
     ]
    }
   ],
   "source": [
    "#every time you call a function that requires a numpy array as an input, the IndexedSimArray has to generate a proxy \n",
    "%time for i in range(10000) : d+=1"
   ]
  },
  {
   "cell_type": "code",
   "execution_count": 15,
   "id": "f4dd4e80",
   "metadata": {},
   "outputs": [
    {
     "name": "stdout",
     "output_type": "stream",
     "text": [
      "CPU times: user 35.3 ms, sys: 3.12 ms, total: 38.4 ms\n",
      "Wall time: 40.5 ms\n"
     ]
    }
   ],
   "source": [
    "%time for i in range(10000) : a+=1"
   ]
  },
  {
   "cell_type": "code",
   "execution_count": 16,
   "id": "8b96c9ba",
   "metadata": {},
   "outputs": [],
   "source": [
    "#how to avoid constructing IndexedSimArray`s and force only numpy arrays to be returned(immediate mode)\n",
    "f = pynbody.new(dm=100) #test snapshot"
   ]
  },
  {
   "cell_type": "code",
   "execution_count": 17,
   "id": "0884679a",
   "metadata": {},
   "outputs": [],
   "source": [
    "#subview into test snapshot\n",
    "sub_f = f[[20,21,22]]"
   ]
  },
  {
   "cell_type": "code",
   "execution_count": 19,
   "id": "cd08ce41",
   "metadata": {},
   "outputs": [],
   "source": [
    "sub_mass = sub_f['mass']"
   ]
  },
  {
   "cell_type": "code",
   "execution_count": 20,
   "id": "0c41c8e6",
   "metadata": {},
   "outputs": [
    {
     "data": {
      "text/plain": [
       "pynbody.array.IndexedSimArray"
      ]
     },
     "execution_count": 20,
     "metadata": {},
     "output_type": "execute_result"
    }
   ],
   "source": [
    "type(sub_mass)"
   ]
  },
  {
   "cell_type": "code",
   "execution_count": 21,
   "id": "723004e1",
   "metadata": {},
   "outputs": [],
   "source": [
    "sub_mass[:]=3"
   ]
  },
  {
   "cell_type": "code",
   "execution_count": 22,
   "id": "7e1138d8",
   "metadata": {},
   "outputs": [
    {
     "data": {
      "text/plain": [
       "SimArray([3., 3., 3.])"
      ]
     },
     "execution_count": 22,
     "metadata": {},
     "output_type": "execute_result"
    }
   ],
   "source": [
    "f['mass'][[20,21,22]]"
   ]
  },
  {
   "cell_type": "code",
   "execution_count": 24,
   "id": "9aa9bad4",
   "metadata": {},
   "outputs": [],
   "source": [
    "#immediate mode: updating returned numpy array has no effect on snapshot\n",
    "with f.immediate_mode:\n",
    "    sub_mass = sub_f['mass']"
   ]
  },
  {
   "cell_type": "code",
   "execution_count": 25,
   "id": "2f5be957",
   "metadata": {},
   "outputs": [
    {
     "data": {
      "text/plain": [
       "pynbody.array.SimArray"
      ]
     },
     "execution_count": 25,
     "metadata": {},
     "output_type": "execute_result"
    }
   ],
   "source": [
    "type(sub_mass)"
   ]
  },
  {
   "cell_type": "code",
   "execution_count": 26,
   "id": "05cf452a",
   "metadata": {},
   "outputs": [
    {
     "data": {
      "text/plain": [
       "SimArray([3., 3., 3.])"
      ]
     },
     "execution_count": 26,
     "metadata": {},
     "output_type": "execute_result"
    }
   ],
   "source": [
    "sub_mass"
   ]
  },
  {
   "cell_type": "code",
   "execution_count": 27,
   "id": "0046285b",
   "metadata": {},
   "outputs": [],
   "source": [
    "sub_mass[:]=5"
   ]
  },
  {
   "cell_type": "code",
   "execution_count": 28,
   "id": "d2604894",
   "metadata": {},
   "outputs": [
    {
     "data": {
      "text/plain": [
       "SimArray([5., 5., 5.])"
      ]
     },
     "execution_count": 28,
     "metadata": {},
     "output_type": "execute_result"
    }
   ],
   "source": [
    "#updated\n",
    "sub_mass"
   ]
  },
  {
   "cell_type": "code",
   "execution_count": 29,
   "id": "0999b552",
   "metadata": {},
   "outputs": [
    {
     "data": {
      "text/plain": [
       "SimArray([3., 3., 3.])"
      ]
     },
     "execution_count": 29,
     "metadata": {},
     "output_type": "execute_result"
    }
   ],
   "source": [
    "#not updated\n",
    "f['mass'][[20,21,22]]"
   ]
  },
  {
   "cell_type": "code",
   "execution_count": null,
   "id": "b244406e",
   "metadata": {},
   "outputs": [],
   "source": []
  }
 ],
 "metadata": {
  "kernelspec": {
   "display_name": "Python 3",
   "language": "python",
   "name": "python3"
  },
  "language_info": {
   "codemirror_mode": {
    "name": "ipython",
    "version": 3
   },
   "file_extension": ".py",
   "mimetype": "text/x-python",
   "name": "python",
   "nbconvert_exporter": "python",
   "pygments_lexer": "ipython3",
   "version": "3.8.8"
  }
 },
 "nbformat": 4,
 "nbformat_minor": 5
}
