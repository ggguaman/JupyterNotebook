{
 "cells": [
  {
   "cell_type": "code",
   "execution_count": 1,
   "id": "171b24fe",
   "metadata": {},
   "outputs": [],
   "source": [
    "#loading test files\n",
    "import pynbody\n",
    "import numpy as np\n",
    "#f known as SimSnap(inspects path and decides the file format)\n",
    "f = pynbody.load(\"/Users/mac/Desktop/testdata/test_g2_snap\")"
   ]
  },
  {
   "cell_type": "code",
   "execution_count": 2,
   "id": "bbefdc73",
   "metadata": {},
   "outputs": [
    {
     "data": {
      "text/plain": [
       "8192"
      ]
     },
     "execution_count": 2,
     "metadata": {},
     "output_type": "execute_result"
    }
   ],
   "source": [
    "#searching number of particles in file\n",
    "len(f)"
   ]
  },
  {
   "cell_type": "code",
   "execution_count": 3,
   "id": "64a06f2c",
   "metadata": {},
   "outputs": [
    {
     "data": {
      "text/plain": [
       "[<Family gas>, <Family dm>, <Family star>]"
      ]
     },
     "execution_count": 3,
     "metadata": {},
     "output_type": "execute_result"
    }
   ],
   "source": [
    "#searching specific particle 'types'(families)\n",
    "f.families()"
   ]
  },
  {
   "cell_type": "code",
   "execution_count": 4,
   "id": "5500dc15",
   "metadata": {},
   "outputs": [
    {
     "data": {
      "text/plain": [
       "4096"
      ]
     },
     "execution_count": 4,
     "metadata": {},
     "output_type": "execute_result"
    }
   ],
   "source": [
    "#searching number of each specific particle\n",
    "len(f.dm)"
   ]
  },
  {
   "cell_type": "code",
   "execution_count": 5,
   "id": "38adae6c",
   "metadata": {},
   "outputs": [
    {
     "data": {
      "text/plain": [
       "4039"
      ]
     },
     "execution_count": 5,
     "metadata": {},
     "output_type": "execute_result"
    }
   ],
   "source": [
    "#searching number of each specific particle\n",
    "len(f.gas)"
   ]
  },
  {
   "cell_type": "code",
   "execution_count": 6,
   "id": "af9ea5b8",
   "metadata": {},
   "outputs": [
    {
     "data": {
      "text/plain": [
       "57"
      ]
     },
     "execution_count": 6,
     "metadata": {},
     "output_type": "execute_result"
    }
   ],
   "source": [
    "#searching number of each specific particle\n",
    "len(f.star)"
   ]
  },
  {
   "cell_type": "code",
   "execution_count": 7,
   "id": "8ace0bf5",
   "metadata": {},
   "outputs": [
    {
     "data": {
      "text/plain": [
       "{'omegaM0': 0.2669,\n",
       " 'omegaL0': 0.7331,\n",
       " 'boxsize': Unit(\"3.00e+03 kpc a h**-1\"),\n",
       " 'a': 0.2777777798158637,\n",
       " 'h': 0.71,\n",
       " 'time': Unit(\"3.55e+00 s kpc a**1/2 h**-1 km**-1\")}"
      ]
     },
     "execution_count": 7,
     "metadata": {},
     "output_type": "execute_result"
    }
   ],
   "source": [
    "#file info stored in properties dictionary\n",
    "f.properties"
   ]
  },
  {
   "cell_type": "code",
   "execution_count": 8,
   "id": "4a5b2120",
   "metadata": {},
   "outputs": [
    {
     "data": {
      "text/plain": [
       "0.2777777798158637"
      ]
     },
     "execution_count": 8,
     "metadata": {},
     "output_type": "execute_result"
    }
   ],
   "source": [
    "#accessing property a from dictionary\n",
    "f.properties['a']"
   ]
  },
  {
   "cell_type": "code",
   "execution_count": 9,
   "id": "5b3b6999",
   "metadata": {},
   "outputs": [
    {
     "data": {
      "text/plain": [
       "[]"
      ]
     },
     "execution_count": 9,
     "metadata": {},
     "output_type": "execute_result"
    }
   ],
   "source": [
    "#array dictionary\n",
    "f.keys()"
   ]
  },
  {
   "cell_type": "code",
   "execution_count": 10,
   "id": "afa3b466",
   "metadata": {},
   "outputs": [
    {
     "data": {
      "text/plain": [
       "['vel', 'iord', 'pos', 'mass']"
      ]
     },
     "execution_count": 10,
     "metadata": {},
     "output_type": "execute_result"
    }
   ],
   "source": [
    "#what could be loaded from keys(array dict.)\n",
    "f.loadable_keys()"
   ]
  },
  {
   "cell_type": "code",
   "execution_count": 11,
   "id": "1deeeca2",
   "metadata": {},
   "outputs": [
    {
     "data": {
      "text/plain": [
       "SimArray([[  53.318974,  177.84364 ,  128.22311 ],\n",
       "          [ 306.75046 ,  140.44455 ,  215.37149 ],\n",
       "          [ 310.99908 ,   64.1345  ,  210.53595 ],\n",
       "          ...,\n",
       "          [2870.9016  , 2940.1711  , 1978.7949  ],\n",
       "          [2872.4114  , 2939.2197  , 1983.916   ],\n",
       "          [2863.6511  , 2938.0544  , 1980.0615  ]], dtype=float32, 'kpc a h**-1')"
      ]
     },
     "execution_count": 11,
     "metadata": {},
     "output_type": "execute_result"
    }
   ],
   "source": [
    "#3D coordinatiates of all properties array\n",
    "f['pos']"
   ]
  },
  {
   "cell_type": "code",
   "execution_count": 12,
   "id": "2cbaef62",
   "metadata": {},
   "outputs": [
    {
     "data": {
      "text/plain": [
       "['sfr',\n",
       " 'u',\n",
       " 'vel',\n",
       " 'iord',\n",
       " 'nh',\n",
       " 'pos',\n",
       " 'nhe',\n",
       " 'nheq',\n",
       " 'smooth',\n",
       " 'rho',\n",
       " 'nhp',\n",
       " 'mass',\n",
       " 'nhep']"
      ]
     },
     "execution_count": 12,
     "metadata": {},
     "output_type": "execute_result"
    }
   ],
   "source": [
    "#arrays available for gas family\n",
    "f.gas.loadable_keys()"
   ]
  },
  {
   "cell_type": "code",
   "execution_count": 13,
   "id": "212ae82e",
   "metadata": {},
   "outputs": [
    {
     "data": {
      "text/plain": [
       "SimArray([1.3888609e-09, 3.3617684e-09, 4.5273674e-09, ..., 8.5340952e-09,\n",
       "          7.4101774e-09, 1.4051752e-09], dtype=float32, '1.00e+10 h**2 Msol a**-3 kpc**-3')"
      ]
     },
     "execution_count": 13,
     "metadata": {},
     "output_type": "execute_result"
    }
   ],
   "source": [
    "#density of gas particles\n",
    "f.gas['rho']"
   ]
  },
  {
   "cell_type": "code",
   "execution_count": 14,
   "id": "06cc873b",
   "metadata": {},
   "outputs": [],
   "source": [
    "#creating own array\n",
    "f['twicethemass'] = f['mass']*2"
   ]
  },
  {
   "cell_type": "code",
   "execution_count": 15,
   "id": "0b2b245e",
   "metadata": {},
   "outputs": [],
   "source": [
    "#array for only one family\n",
    "f.gas['myarray'] = f.gas['rho']**2"
   ]
  },
  {
   "cell_type": "code",
   "execution_count": 16,
   "id": "7d089f63",
   "metadata": {},
   "outputs": [],
   "source": [
    "#derived arrays that are [re]calculated on demand\n",
    "@pynbody.derived_array\n",
    "def thricethemass(sim) :\n",
    "    return sim['mass']*3"
   ]
  },
  {
   "cell_type": "code",
   "execution_count": 17,
   "id": "cb171494",
   "metadata": {},
   "outputs": [
    {
     "data": {
      "text/plain": [
       "SimArray([0.02464408, 0.02464408, 0.02464408, ..., 0.02464408, 0.02464408,\n",
       "          0.02464408], dtype=float32, '1.00e+10 Msol h**-1')"
      ]
     },
     "execution_count": 17,
     "metadata": {},
     "output_type": "execute_result"
    }
   ],
   "source": [
    "#when calling array values are calculated and stored\n",
    "f['thricethemass']"
   ]
  },
  {
   "cell_type": "code",
   "execution_count": 18,
   "id": "59852bc0",
   "metadata": {},
   "outputs": [],
   "source": [
    "#changing mass array\n",
    "f['mass'][0] = 1"
   ]
  },
  {
   "cell_type": "code",
   "execution_count": 19,
   "id": "03a6eb5b",
   "metadata": {},
   "outputs": [
    {
     "data": {
      "text/plain": [
       "SimArray([3.        , 0.02464408, 0.02464408, ..., 0.02464408, 0.02464408,\n",
       "          0.02464408], dtype=float32, '1.00e+10 Msol h**-1')"
      ]
     },
     "execution_count": 19,
     "metadata": {},
     "output_type": "execute_result"
    }
   ],
   "source": [
    "#recalculates and changes thrice array\n",
    "f['thricethemass']"
   ]
  },
  {
   "cell_type": "code",
   "execution_count": 20,
   "id": "3cf589d3",
   "metadata": {},
   "outputs": [
    {
     "data": {
      "text/plain": [
       "Unit(\"1.00e+10 Msol h**-1\")"
      ]
     },
     "execution_count": 20,
     "metadata": {},
     "output_type": "execute_result"
    }
   ],
   "source": [
    "#printing units of array\n",
    "f['mass'].units"
   ]
  },
  {
   "cell_type": "code",
   "execution_count": 21,
   "id": "28aed426",
   "metadata": {},
   "outputs": [
    {
     "data": {
      "text/plain": [
       "SimArray([[0.02086032, 0.06957889, 0.05016554],\n",
       "          [0.12001192, 0.05494701, 0.08426115],\n",
       "          [0.12167414, 0.02509174, 0.08236931],\n",
       "          ...,\n",
       "          [1.1232009 , 1.1503017 , 0.7741764 ],\n",
       "          [1.1237916 , 1.1499294 , 0.77617997],\n",
       "          [1.1203643 , 1.1494735 , 0.774672  ]], dtype=float32, 'Mpc')"
      ]
     },
     "execution_count": 21,
     "metadata": {},
     "output_type": "execute_result"
    }
   ],
   "source": [
    "#converting array to correct units\n",
    "f['pos'].in_units('Mpc')"
   ]
  },
  {
   "cell_type": "code",
   "execution_count": 22,
   "id": "9351d43f",
   "metadata": {},
   "outputs": [],
   "source": [
    "#requesting pynbody change array to something sensible\n",
    "f.physical_units()"
   ]
  },
  {
   "cell_type": "code",
   "execution_count": 23,
   "id": "50b5349f",
   "metadata": {},
   "outputs": [
    {
     "data": {
      "text/plain": [
       "SimArray([ 326.6502 ,  790.66406, 1064.8047 , ..., 2007.1586 , 1742.821  ,\n",
       "           330.4872 ], dtype=float32, 'Msol kpc**-3')"
      ]
     },
     "execution_count": 23,
     "metadata": {},
     "output_type": "execute_result"
    }
   ],
   "source": [
    "f.gas['rho']"
   ]
  },
  {
   "cell_type": "code",
   "execution_count": 24,
   "id": "9052df26",
   "metadata": {},
   "outputs": [
    {
     "data": {
      "text/plain": [
       "SimArray([[ 27.938293 ,   4.983705 , -10.008866 ],\n",
       "          [ 15.361564 ,   5.7859726,   4.3631563],\n",
       "          [ -8.357319 ,  -2.8885257,  22.809904 ],\n",
       "          ...,\n",
       "          [ 27.749176 ,  85.60175  ,  15.532437 ],\n",
       "          [ 40.755856 ,  59.442867 ,  44.244846 ],\n",
       "          [ 38.383965 ,  68.63973  ,  46.01429  ]], dtype=float32, 'km s**-1')"
      ]
     },
     "execution_count": 24,
     "metadata": {},
     "output_type": "execute_result"
    }
   ],
   "source": [
    "#future arrays will also be converted\n",
    "f['vel']"
   ]
  },
  {
   "cell_type": "code",
   "execution_count": 25,
   "id": "94898626",
   "metadata": {},
   "outputs": [
    {
     "data": {
      "text/plain": [
       "SimArray([[139.69147 ,  24.918526, -50.04433 ],\n",
       "          [ 76.807816,  28.929863,  21.81578 ],\n",
       "          [-41.786594, -14.442629, 114.04952 ],\n",
       "          ...,\n",
       "          [138.74588 , 428.00876 ,  77.662186],\n",
       "          [203.77928 , 297.21432 , 221.22423 ],\n",
       "          [191.91983 , 343.19867 , 230.07144 ]], dtype=float32, 'km s**-1')"
      ]
     },
     "execution_count": 25,
     "metadata": {},
     "output_type": "execute_result"
    }
   ],
   "source": [
    "#new generated array will have correct units\n",
    "5*f['vel']"
   ]
  },
  {
   "cell_type": "code",
   "execution_count": 26,
   "id": "2851073f",
   "metadata": {},
   "outputs": [
    {
     "data": {
      "text/plain": [
       "Unit(\"km**2 s**-2\")"
      ]
     },
     "execution_count": 26,
     "metadata": {},
     "output_type": "execute_result"
    }
   ],
   "source": [
    "(f['vel']**2).units"
   ]
  },
  {
   "cell_type": "code",
   "execution_count": 27,
   "id": "379767c2",
   "metadata": {},
   "outputs": [
    {
     "data": {
      "text/plain": [
       "Unit(\"km Msol**1/2 s**-1\")"
      ]
     },
     "execution_count": 27,
     "metadata": {},
     "output_type": "execute_result"
    }
   ],
   "source": [
    "np.sqrt(((f['vel']**2).sum(axis=1)*f['mass'])).units"
   ]
  },
  {
   "cell_type": "code",
   "execution_count": 28,
   "id": "21a9814f",
   "metadata": {},
   "outputs": [],
   "source": [
    "#converting numpy array to pynbody array\n",
    "array = pynbody.array.SimArray(np.random.rand(10))"
   ]
  },
  {
   "cell_type": "code",
   "execution_count": 29,
   "id": "4d8f983d",
   "metadata": {},
   "outputs": [],
   "source": [
    "#linking array to simulation\n",
    "array.sim = f"
   ]
  },
  {
   "cell_type": "code",
   "execution_count": 30,
   "id": "f4503551",
   "metadata": {},
   "outputs": [],
   "source": [
    "#units that require cosmology info\n",
    "array.units = 'Mpc a'"
   ]
  },
  {
   "cell_type": "code",
   "execution_count": 31,
   "id": "4df7bc94",
   "metadata": {},
   "outputs": [
    {
     "data": {
      "text/plain": [
       "SimArray([0.93673961, 0.63648642, 0.38864078, 0.5381975 , 0.6288116 ,\n",
       "          0.37012806, 0.734677  , 0.59931027, 0.92018957, 0.71456177], 'Mpc a')"
      ]
     },
     "execution_count": 31,
     "metadata": {},
     "output_type": "execute_result"
    }
   ],
   "source": [
    "array"
   ]
  },
  {
   "cell_type": "code",
   "execution_count": 32,
   "id": "240ca45d",
   "metadata": {},
   "outputs": [
    {
     "data": {
      "text/plain": [
       "SimArray([260.20544956, 176.80178489, 107.95577218, 149.49930614,\n",
       "          174.66989076, 102.81335191, 204.07694604, 166.47507505,\n",
       "          255.60821629, 198.48938195], 'kpc')"
      ]
     },
     "execution_count": 32,
     "metadata": {},
     "output_type": "execute_result"
    }
   ],
   "source": [
    "array.in_units('kpc')"
   ]
  },
  {
   "cell_type": "code",
   "execution_count": 33,
   "id": "e94f7758",
   "metadata": {},
   "outputs": [],
   "source": [
    "#slicing to get every 10th particle\n",
    "every_tenth = f[::10]"
   ]
  },
  {
   "cell_type": "code",
   "execution_count": 34,
   "id": "36bef561",
   "metadata": {},
   "outputs": [
    {
     "data": {
      "text/plain": [
       "820"
      ]
     },
     "execution_count": 34,
     "metadata": {},
     "output_type": "execute_result"
    }
   ],
   "source": [
    "#display length\n",
    "len(every_tenth)"
   ]
  },
  {
   "cell_type": "code",
   "execution_count": 35,
   "id": "483e3bac",
   "metadata": {},
   "outputs": [
    {
     "data": {
      "text/plain": [
       "SimArray([140.2888 , 122.21798,  75.80529], dtype=float32, 'kpc')"
      ]
     },
     "execution_count": 35,
     "metadata": {},
     "output_type": "execute_result"
    }
   ],
   "source": [
    "#changing position of particle\n",
    "every_tenth['pos'][1]"
   ]
  },
  {
   "cell_type": "code",
   "execution_count": 36,
   "id": "356e6579",
   "metadata": {},
   "outputs": [],
   "source": [
    "#changing position of particle\n",
    "every_tenth['pos'][1] = [1,2,3]"
   ]
  },
  {
   "cell_type": "code",
   "execution_count": 37,
   "id": "aca2996a",
   "metadata": {},
   "outputs": [
    {
     "data": {
      "text/plain": [
       "SimArray([1., 2., 3.], dtype=float32, 'kpc')"
      ]
     },
     "execution_count": 37,
     "metadata": {},
     "output_type": "execute_result"
    }
   ],
   "source": [
    "#changing position of particle\n",
    "every_tenth['pos'][1]"
   ]
  },
  {
   "cell_type": "code",
   "execution_count": 38,
   "id": "8f4e3535",
   "metadata": {},
   "outputs": [
    {
     "data": {
      "text/plain": [
       "SimArray([1., 2., 3.], dtype=float32, 'kpc')"
      ]
     },
     "execution_count": 38,
     "metadata": {},
     "output_type": "execute_result"
    }
   ],
   "source": [
    "#can see change in main snapshot\n",
    "f['pos'][10]"
   ]
  },
  {
   "cell_type": "code",
   "execution_count": 41,
   "id": "a4458e07",
   "metadata": {},
   "outputs": [],
   "source": [
    "#passing boolean array to determine if particle should be included(true) or not(false)\n",
    "f_slab = f[(f['x']>1000)&(f['x']<2000)]"
   ]
  },
  {
   "cell_type": "code",
   "execution_count": 42,
   "id": "6a80de32",
   "metadata": {},
   "outputs": [
    {
     "data": {
      "text/plain": [
       "SimArray(1000.11975, dtype=float32, 'kpc')"
      ]
     },
     "execution_count": 42,
     "metadata": {},
     "output_type": "execute_result"
    }
   ],
   "source": [
    "#f_slab only pointing at particles that have x-coordinates between 1000 and 2000.\n",
    "f_slab['x'].min()"
   ]
  },
  {
   "cell_type": "code",
   "execution_count": 43,
   "id": "150f07e7",
   "metadata": {},
   "outputs": [
    {
     "data": {
      "text/plain": [
       "SimArray(1173.6926, dtype=float32, 'kpc')"
      ]
     },
     "execution_count": 43,
     "metadata": {},
     "output_type": "execute_result"
    }
   ],
   "source": [
    "f_slab['x'].max()"
   ]
  },
  {
   "cell_type": "code",
   "execution_count": 44,
   "id": "99cd6ca6",
   "metadata": {},
   "outputs": [
    {
     "data": {
      "text/plain": [
       "SimArray(0.04504352, dtype=float32, 'kpc')"
      ]
     },
     "execution_count": 44,
     "metadata": {},
     "output_type": "execute_result"
    }
   ],
   "source": [
    "f['x'].min()"
   ]
  },
  {
   "cell_type": "code",
   "execution_count": 45,
   "id": "a26c9c0f",
   "metadata": {},
   "outputs": [
    {
     "data": {
      "text/plain": [
       "SimArray(1173.6926, dtype=float32, 'kpc')"
      ]
     },
     "execution_count": 45,
     "metadata": {},
     "output_type": "execute_result"
    }
   ],
   "source": [
    "f['x'].max()"
   ]
  },
  {
   "cell_type": "code",
   "execution_count": 46,
   "id": "95aa7273",
   "metadata": {},
   "outputs": [
    {
     "data": {
      "text/plain": [
       "1236"
      ]
     },
     "execution_count": 46,
     "metadata": {},
     "output_type": "execute_result"
    }
   ],
   "source": [
    "#returning length of slab\n",
    "len(f_slab.dm)"
   ]
  },
  {
   "cell_type": "code",
   "execution_count": 47,
   "id": "69576dc3",
   "metadata": {},
   "outputs": [
    {
     "data": {
      "text/plain": [
       "124"
      ]
     },
     "execution_count": 47,
     "metadata": {},
     "output_type": "execute_result"
    }
   ],
   "source": [
    "#returning length of subsnap of slab\n",
    "len(f_slab.dm[::10])"
   ]
  },
  {
   "cell_type": "code",
   "execution_count": 48,
   "id": "27056a7c",
   "metadata": {},
   "outputs": [
    {
     "data": {
      "text/plain": [
       "SimArray([[1029.6443 ,  421.70737,  169.25818],\n",
       "          [1097.2487 ,  377.8681 ,  149.81082],\n",
       "          [1059.9261 ,  374.7446 ,  192.37201]], dtype=float32, 'kpc')"
      ]
     },
     "execution_count": 48,
     "metadata": {},
     "output_type": "execute_result"
    }
   ],
   "source": [
    "f_slab[[100,105,252]].gas['pos']"
   ]
  },
  {
   "cell_type": "code",
   "execution_count": 49,
   "id": "8ddd0f5f",
   "metadata": {},
   "outputs": [],
   "source": [
    "#importing filter from pynbody\n",
    "from pynbody.filt import *"
   ]
  },
  {
   "cell_type": "code",
   "execution_count": 50,
   "id": "03e096fc",
   "metadata": {},
   "outputs": [],
   "source": [
    "#using a filter to pick out a sphere centered on the origin\n",
    "f_sphere = f[Sphere('10 kpc')]"
   ]
  },
  {
   "cell_type": "code",
   "execution_count": null,
   "id": "77822d35",
   "metadata": {},
   "outputs": [],
   "source": []
  }
 ],
 "metadata": {
  "kernelspec": {
   "display_name": "Python 3",
   "language": "python",
   "name": "python3"
  },
  "language_info": {
   "codemirror_mode": {
    "name": "ipython",
    "version": 3
   },
   "file_extension": ".py",
   "mimetype": "text/x-python",
   "name": "python",
   "nbconvert_exporter": "python",
   "pygments_lexer": "ipython3",
   "version": "3.8.8"
  }
 },
 "nbformat": 4,
 "nbformat_minor": 5
}
