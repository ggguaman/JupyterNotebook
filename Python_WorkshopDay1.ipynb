{
 "cells": [
  {
   "cell_type": "markdown",
   "id": "dc391049",
   "metadata": {},
   "source": [
    "this is my first notebook"
   ]
  },
  {
   "cell_type": "code",
   "execution_count": 1,
   "id": "1b8963ce",
   "metadata": {},
   "outputs": [],
   "source": [
    "a=True\n",
    "b=4\n",
    "c=3.1e4\n",
    "d=2+6j"
   ]
  },
  {
   "cell_type": "code",
   "execution_count": 2,
   "id": "a6cca5fc",
   "metadata": {},
   "outputs": [
    {
     "data": {
      "text/plain": [
       "bool"
      ]
     },
     "execution_count": 2,
     "metadata": {},
     "output_type": "execute_result"
    }
   ],
   "source": [
    "#checking type\n",
    "type(a)"
   ]
  },
  {
   "cell_type": "code",
   "execution_count": 3,
   "id": "f22820ec",
   "metadata": {},
   "outputs": [
    {
     "data": {
      "text/plain": [
       "1"
      ]
     },
     "execution_count": 3,
     "metadata": {},
     "output_type": "execute_result"
    }
   ],
   "source": [
    "int(a)"
   ]
  },
  {
   "cell_type": "code",
   "execution_count": 4,
   "id": "a6170124",
   "metadata": {},
   "outputs": [
    {
     "data": {
      "text/plain": [
       "4.0"
      ]
     },
     "execution_count": 4,
     "metadata": {},
     "output_type": "execute_result"
    }
   ],
   "source": [
    "float(b)"
   ]
  },
  {
   "cell_type": "code",
   "execution_count": 5,
   "id": "b0dc8d63",
   "metadata": {},
   "outputs": [
    {
     "data": {
      "text/plain": [
       "73"
      ]
     },
     "execution_count": 5,
     "metadata": {},
     "output_type": "execute_result"
    }
   ],
   "source": [
    "x=4\n",
    "(5*x**2)+(2*x)-(15)"
   ]
  },
  {
   "cell_type": "code",
   "execution_count": 6,
   "id": "a83b1bd8",
   "metadata": {},
   "outputs": [
    {
     "data": {
      "text/plain": [
       "16.5"
      ]
     },
     "execution_count": 6,
     "metadata": {},
     "output_type": "execute_result"
    }
   ],
   "source": [
    "((3+5)*2)+(1/2)"
   ]
  },
  {
   "cell_type": "code",
   "execution_count": 7,
   "id": "c1f5beb4",
   "metadata": {},
   "outputs": [
    {
     "data": {
      "text/plain": [
       "50"
      ]
     },
     "execution_count": 7,
     "metadata": {},
     "output_type": "execute_result"
    }
   ],
   "source": [
    "608//12"
   ]
  },
  {
   "cell_type": "code",
   "execution_count": 8,
   "id": "df099bdf",
   "metadata": {},
   "outputs": [
    {
     "data": {
      "text/plain": [
       "8"
      ]
     },
     "execution_count": 8,
     "metadata": {},
     "output_type": "execute_result"
    }
   ],
   "source": [
    "608%12"
   ]
  },
  {
   "cell_type": "code",
   "execution_count": 9,
   "id": "9136fb00",
   "metadata": {},
   "outputs": [
    {
     "data": {
      "text/plain": [
       "True"
      ]
     },
     "execution_count": 9,
     "metadata": {},
     "output_type": "execute_result"
    }
   ],
   "source": [
    "x>2"
   ]
  },
  {
   "cell_type": "code",
   "execution_count": 10,
   "id": "02254578",
   "metadata": {},
   "outputs": [
    {
     "data": {
      "text/plain": [
       "False"
      ]
     },
     "execution_count": 10,
     "metadata": {},
     "output_type": "execute_result"
    }
   ],
   "source": [
    "x==2"
   ]
  },
  {
   "cell_type": "code",
   "execution_count": 11,
   "id": "8342e1b6",
   "metadata": {},
   "outputs": [],
   "source": [
    "y=7"
   ]
  },
  {
   "cell_type": "code",
   "execution_count": 12,
   "id": "894ab65c",
   "metadata": {},
   "outputs": [
    {
     "data": {
      "text/plain": [
       "False"
      ]
     },
     "execution_count": 12,
     "metadata": {},
     "output_type": "execute_result"
    }
   ],
   "source": [
    "y<5"
   ]
  },
  {
   "cell_type": "code",
   "execution_count": 13,
   "id": "df55ba72",
   "metadata": {},
   "outputs": [
    {
     "data": {
      "text/plain": [
       "True"
      ]
     },
     "execution_count": 13,
     "metadata": {},
     "output_type": "execute_result"
    }
   ],
   "source": [
    "y>=5"
   ]
  },
  {
   "cell_type": "code",
   "execution_count": 14,
   "id": "ef51c753",
   "metadata": {},
   "outputs": [
    {
     "data": {
      "text/plain": [
       "False"
      ]
     },
     "execution_count": 14,
     "metadata": {},
     "output_type": "execute_result"
    }
   ],
   "source": [
    "y==0"
   ]
  },
  {
   "cell_type": "code",
   "execution_count": 15,
   "id": "a6c2656c",
   "metadata": {},
   "outputs": [
    {
     "data": {
      "text/plain": [
       "False"
      ]
     },
     "execution_count": 15,
     "metadata": {},
     "output_type": "execute_result"
    }
   ],
   "source": [
    "y==9"
   ]
  },
  {
   "cell_type": "code",
   "execution_count": 16,
   "id": "67b7ce9b",
   "metadata": {},
   "outputs": [
    {
     "data": {
      "text/plain": [
       "False"
      ]
     },
     "execution_count": 16,
     "metadata": {},
     "output_type": "execute_result"
    }
   ],
   "source": [
    "y>2 and y<7"
   ]
  },
  {
   "cell_type": "code",
   "execution_count": 17,
   "id": "d67317e6",
   "metadata": {},
   "outputs": [
    {
     "data": {
      "text/plain": [
       "False"
      ]
     },
     "execution_count": 17,
     "metadata": {},
     "output_type": "execute_result"
    }
   ],
   "source": [
    "y==0 or y==9"
   ]
  },
  {
   "cell_type": "code",
   "execution_count": 18,
   "id": "e0801fd0",
   "metadata": {},
   "outputs": [],
   "source": [
    "r=(y==9)"
   ]
  },
  {
   "cell_type": "code",
   "execution_count": 19,
   "id": "e1f3753f",
   "metadata": {},
   "outputs": [],
   "source": [
    "z=0.1"
   ]
  },
  {
   "cell_type": "code",
   "execution_count": 20,
   "id": "8dc8cc73",
   "metadata": {},
   "outputs": [
    {
     "data": {
      "text/plain": [
       "True"
      ]
     },
     "execution_count": 20,
     "metadata": {},
     "output_type": "execute_result"
    }
   ],
   "source": [
    "z==0.1"
   ]
  },
  {
   "cell_type": "code",
   "execution_count": 81,
   "id": "03b76c74",
   "metadata": {},
   "outputs": [
    {
     "name": "stdout",
     "output_type": "stream",
     "text": [
      "Enter the height of the tower:21\n",
      "Enter how long the ball has been falling: 2\n"
     ]
    }
   ],
   "source": [
    "#height of the ball after being dropped\n",
    "h=float(input(\"Enter the height of the tower:\"))\n",
    "t=float(input(\"Enter how long the ball has been falling: \"))"
   ]
  },
  {
   "cell_type": "code",
   "execution_count": 82,
   "id": "9d44cc63",
   "metadata": {},
   "outputs": [],
   "source": [
    "H=h-0.5*9.81*t**2"
   ]
  },
  {
   "cell_type": "code",
   "execution_count": 83,
   "id": "a16deda9",
   "metadata": {},
   "outputs": [
    {
     "data": {
      "text/plain": [
       "float"
      ]
     },
     "execution_count": 83,
     "metadata": {},
     "output_type": "execute_result"
    }
   ],
   "source": [
    "#checking variable type\n",
    "type(h)"
   ]
  },
  {
   "cell_type": "code",
   "execution_count": 84,
   "id": "980233fa",
   "metadata": {},
   "outputs": [
    {
     "data": {
      "text/plain": [
       "float"
      ]
     },
     "execution_count": 84,
     "metadata": {},
     "output_type": "execute_result"
    }
   ],
   "source": [
    "#checking variable type\n",
    "type(t)"
   ]
  },
  {
   "cell_type": "code",
   "execution_count": 85,
   "id": "d7522de8",
   "metadata": {},
   "outputs": [
    {
     "name": "stdout",
     "output_type": "stream",
     "text": [
      "1.379999999999999\n"
     ]
    }
   ],
   "source": [
    "print(H)"
   ]
  },
  {
   "cell_type": "code",
   "execution_count": 27,
   "id": "7c6bd48b",
   "metadata": {},
   "outputs": [
    {
     "name": "stdout",
     "output_type": "stream",
     "text": [
      "The height of the ball is:  1.379999999999999\n"
     ]
    }
   ],
   "source": [
    "if(H>0):\n",
    "    print(\"The height of the ball is: \", H)\n",
    "else:\n",
    "    print(\"The ball has already hit the ground\")"
   ]
  },
  {
   "cell_type": "code",
   "execution_count": 28,
   "id": "ba6a66fb",
   "metadata": {},
   "outputs": [
    {
     "name": "stdout",
     "output_type": "stream",
     "text": [
      "[1.0, 2.0, 5.0, 14.0, 42.0, 132.0, 429.0, 1430.0, 4862.0, 16796.0, 58786.0, 208012.0, 742900.0, 2674440.0, 9694845.0, 35357670.0, 129644790.0, 477638700.0, 1767263190.0, 6564120420.0, 24466267020.0, 91482563640.0, 343059613650.0, 1289904147324.0, 4861946401452.0, 18367353072152.0, 69533550916004.0, 263747951750360.0, 1002242216651368.0, 3814986502092304.0, 1.4544636039226908e+16, 5.55340648770482e+16, 2.1233613041224314e+17, 8.12944042149731e+17, 3.116285494907302e+18, 1.1959798385860456e+19, 4.5950804324621754e+19, 1.7673386278700676e+20, 6.804253717299761e+20, 2.6221270422764934e+21, 1.0113918591637903e+22, 3.904442991190447e+22, 1.5085347920508544e+23, 5.83300119592997e+23, 2.2571178540772493e+24, 8.740328711533179e+24, 3.386877375719107e+25, 1.3132789824216945e+26, 5.0955224517961745e+26, 1.9782616577561618e+27, 7.684785670514321e+27]\n"
     ]
    }
   ],
   "source": [
    "#Catalan numbers\n",
    "n=0\n",
    "C=1\n",
    "L=[]\n",
    "while(n < 51):\n",
    "    C = (4*n+2)/(n+2)*C\n",
    "    n = n+1\n",
    "    L.append(C)\n",
    "print(L)"
   ]
  },
  {
   "cell_type": "code",
   "execution_count": 29,
   "id": "59f8c539",
   "metadata": {},
   "outputs": [
    {
     "name": "stdout",
     "output_type": "stream",
     "text": [
      "7.684785670514321e+27\n"
     ]
    }
   ],
   "source": [
    "print(L[50])"
   ]
  },
  {
   "cell_type": "code",
   "execution_count": 32,
   "id": "ea50b84b",
   "metadata": {},
   "outputs": [],
   "source": [
    "#creating list\n",
    "k=[1,2,3,4,5]"
   ]
  },
  {
   "cell_type": "code",
   "execution_count": 33,
   "id": "21b88f95",
   "metadata": {},
   "outputs": [
    {
     "name": "stdout",
     "output_type": "stream",
     "text": [
      "6\n"
     ]
    }
   ],
   "source": [
    "#adding 2 to the 4th number in the list\n",
    "print(k[3]+2)"
   ]
  },
  {
   "cell_type": "code",
   "execution_count": 43,
   "id": "1e692a5b",
   "metadata": {},
   "outputs": [],
   "source": [
    "#adding 8 as the 6th number in the lsit\n",
    "k=k+[8]"
   ]
  },
  {
   "cell_type": "code",
   "execution_count": 44,
   "id": "ecda0e47",
   "metadata": {},
   "outputs": [
    {
     "name": "stdout",
     "output_type": "stream",
     "text": [
      "[4, 8]\n"
     ]
    }
   ],
   "source": [
    "print(k[3:5])"
   ]
  },
  {
   "cell_type": "code",
   "execution_count": 48,
   "id": "7d688b84",
   "metadata": {},
   "outputs": [],
   "source": [
    "import numpy as np"
   ]
  },
  {
   "cell_type": "code",
   "execution_count": 53,
   "id": "b2365b41",
   "metadata": {},
   "outputs": [
    {
     "name": "stdout",
     "output_type": "stream",
     "text": [
      "[False False False False False False  True  True  True  True]\n"
     ]
    }
   ],
   "source": [
    "#changing int array to bool array \n",
    "a=[0,1,2,3,4,5,6,7,8,9]\n",
    "array=np.array(a)\n",
    "b=(array>5)\n",
    "print(b)"
   ]
  },
  {
   "cell_type": "code",
   "execution_count": 54,
   "id": "fa81047d",
   "metadata": {},
   "outputs": [
    {
     "data": {
      "text/plain": [
       "array([6, 7, 8, 9])"
      ]
     },
     "execution_count": 54,
     "metadata": {},
     "output_type": "execute_result"
    }
   ],
   "source": [
    "#slicing array a by b\n",
    "array[b]"
   ]
  },
  {
   "cell_type": "code",
   "execution_count": 55,
   "id": "c99e36a2",
   "metadata": {},
   "outputs": [],
   "source": [
    "#array b by only even\n",
    "b=(array%2==0)"
   ]
  },
  {
   "cell_type": "code",
   "execution_count": 56,
   "id": "78402ee9",
   "metadata": {},
   "outputs": [
    {
     "data": {
      "text/plain": [
       "array([0, 2, 4, 6, 8])"
      ]
     },
     "execution_count": 56,
     "metadata": {},
     "output_type": "execute_result"
    }
   ],
   "source": [
    "#slicing array a by only b evens\n",
    "array[b]"
   ]
  },
  {
   "cell_type": "code",
   "execution_count": 65,
   "id": "a746eaad",
   "metadata": {},
   "outputs": [
    {
     "name": "stdout",
     "output_type": "stream",
     "text": [
      "7.684785670514321e+27\n"
     ]
    }
   ],
   "source": [
    "#Catalan numbers array\n",
    "C=1\n",
    "A=np.zeros(100)\n",
    "for n in range(100):\n",
    "    C=(4*n+2)/(n+2)*C\n",
    "    A[n]=C\n",
    "print(A[50])"
   ]
  },
  {
   "cell_type": "code",
   "execution_count": 79,
   "id": "55e87110",
   "metadata": {},
   "outputs": [],
   "source": [
    "#Catalan numbers function\n",
    "def function(nmax):\n",
    "    C=1\n",
    "    for n in range(1,nmax+1):\n",
    "        C=(4*n+2)/(n+2)*C\n",
    "    return C"
   ]
  },
  {
   "cell_type": "code",
   "execution_count": 80,
   "id": "85418d3e",
   "metadata": {},
   "outputs": [
    {
     "data": {
      "text/plain": [
       "5.0"
      ]
     },
     "execution_count": 80,
     "metadata": {},
     "output_type": "execute_result"
    }
   ],
   "source": [
    "#printing the 3rd number of catalan numbers\n",
    "function(2)"
   ]
  },
  {
   "cell_type": "code",
   "execution_count": null,
   "id": "3e1bd748",
   "metadata": {},
   "outputs": [],
   "source": []
  }
 ],
 "metadata": {
  "kernelspec": {
   "display_name": "Python 3",
   "language": "python",
   "name": "python3"
  },
  "language_info": {
   "codemirror_mode": {
    "name": "ipython",
    "version": 3
   },
   "file_extension": ".py",
   "mimetype": "text/x-python",
   "name": "python",
   "nbconvert_exporter": "python",
   "pygments_lexer": "ipython3",
   "version": "3.8.8"
  }
 },
 "nbformat": 4,
 "nbformat_minor": 5
}
