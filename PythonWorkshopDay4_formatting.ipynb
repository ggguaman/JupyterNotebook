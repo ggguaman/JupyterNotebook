{
 "cells": [
  {
   "cell_type": "code",
   "execution_count": 1,
   "id": "5f75e02e",
   "metadata": {},
   "outputs": [],
   "source": [
    "import numpy as np"
   ]
  },
  {
   "cell_type": "code",
   "execution_count": 3,
   "id": "b891e5dd",
   "metadata": {},
   "outputs": [
    {
     "name": "stdout",
     "output_type": "stream",
     "text": [
      "15.707963267948966 3.141592653589793\n"
     ]
    }
   ],
   "source": [
    "print(5*np.pi, np.pi)"
   ]
  },
  {
   "cell_type": "code",
   "execution_count": 4,
   "id": "ba4a7f70",
   "metadata": {},
   "outputs": [
    {
     "name": "stdout",
     "output_type": "stream",
     "text": [
      "5pi and pi are equal to 15.707963267948966 3.141592653589793\n"
     ]
    }
   ],
   "source": [
    "print(\"5pi and pi are equal to\",5*np.pi,np.pi)"
   ]
  },
  {
   "cell_type": "code",
   "execution_count": 10,
   "id": "40c5d288",
   "metadata": {},
   "outputs": [
    {
     "name": "stdout",
     "output_type": "stream",
     "text": [
      "5pi equals 15.71 and pi equals 3.14159e+00\n"
     ]
    }
   ],
   "source": [
    "print(\"5pi equals {:5.2f} and pi equals {:4.5e}\".format(5*np.pi,np.pi))"
   ]
  },
  {
   "cell_type": "code",
   "execution_count": 13,
   "id": "5832a73d",
   "metadata": {},
   "outputs": [],
   "source": [
    "str=\"hello digits {:4.2f}\".format(54.77777)"
   ]
  },
  {
   "cell_type": "code",
   "execution_count": 14,
   "id": "5df01a19",
   "metadata": {},
   "outputs": [
    {
     "data": {
      "text/plain": [
       "'hello digits 54.78'"
      ]
     },
     "execution_count": 14,
     "metadata": {},
     "output_type": "execute_result"
    }
   ],
   "source": [
    "str"
   ]
  },
  {
   "cell_type": "code",
   "execution_count": null,
   "id": "aced98b9",
   "metadata": {},
   "outputs": [],
   "source": []
  }
 ],
 "metadata": {
  "kernelspec": {
   "display_name": "Python 3",
   "language": "python",
   "name": "python3"
  },
  "language_info": {
   "codemirror_mode": {
    "name": "ipython",
    "version": 3
   },
   "file_extension": ".py",
   "mimetype": "text/x-python",
   "name": "python",
   "nbconvert_exporter": "python",
   "pygments_lexer": "ipython3",
   "version": "3.8.8"
  }
 },
 "nbformat": 4,
 "nbformat_minor": 5
}
