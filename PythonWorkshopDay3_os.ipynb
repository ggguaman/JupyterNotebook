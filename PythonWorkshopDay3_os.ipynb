{
 "cells": [
  {
   "cell_type": "markdown",
   "id": "b2663aca",
   "metadata": {},
   "source": [
    "os"
   ]
  },
  {
   "cell_type": "code",
   "execution_count": 1,
   "id": "9c313464",
   "metadata": {},
   "outputs": [],
   "source": [
    "import os"
   ]
  },
  {
   "cell_type": "code",
   "execution_count": 2,
   "id": "da4294ae",
   "metadata": {},
   "outputs": [
    {
     "data": {
      "text/plain": [
       "'/Users/mac'"
      ]
     },
     "execution_count": 2,
     "metadata": {},
     "output_type": "execute_result"
    }
   ],
   "source": [
    "os.getcwd()"
   ]
  },
  {
   "cell_type": "code",
   "execution_count": 3,
   "id": "4aea1424",
   "metadata": {},
   "outputs": [
    {
     "data": {
      "text/plain": [
       "['Music',\n",
       " '.anyconnect',\n",
       " 'Python Workshop Day 3.ipynb',\n",
       " '.DS_Store',\n",
       " 'Python Workshop Day 3 (line of best fit).ipynb',\n",
       " '.CFUserTextEncoding',\n",
       " 'Python Workshop Day 1.ipynb',\n",
       " 'Untitled.ipynb',\n",
       " '.local',\n",
       " 'Pictures',\n",
       " '.ipython',\n",
       " 'Desktop',\n",
       " 'Library',\n",
       " '.matplotlib',\n",
       " 'Python Workshop Day 2.ipynb',\n",
       " '.oracle_jre_usage',\n",
       " 'seaborn-data',\n",
       " '.cups',\n",
       " '.bash_sessions',\n",
       " 'Public',\n",
       " 'Python Workshop Day 3 (2D Plotting).ipynb',\n",
       " 'Redshift.ipynb',\n",
       " '.cisco',\n",
       " 'Movies',\n",
       " 'Applications',\n",
       " '.Trash',\n",
       " '.ipynb_checkpoints',\n",
       " '.jupyter',\n",
       " 'Documents',\n",
       " 'Anaconda3-2021.05-MacOSX-x86_64.sh',\n",
       " '.git',\n",
       " '.bash_profile',\n",
       " 'anaconda3',\n",
       " 'Downloads',\n",
       " '.python_history',\n",
       " '.grasp_settings',\n",
       " '.bash_history',\n",
       " '.conda']"
      ]
     },
     "execution_count": 3,
     "metadata": {},
     "output_type": "execute_result"
    }
   ],
   "source": [
    "os.listdir()"
   ]
  },
  {
   "cell_type": "code",
   "execution_count": 4,
   "id": "4fd37d88",
   "metadata": {},
   "outputs": [],
   "source": [
    "os.chdir('Desktop')"
   ]
  },
  {
   "cell_type": "code",
   "execution_count": 5,
   "id": "b9f61b92",
   "metadata": {},
   "outputs": [
    {
     "data": {
      "text/plain": [
       "'/Users/mac/Desktop'"
      ]
     },
     "execution_count": 5,
     "metadata": {},
     "output_type": "execute_result"
    }
   ],
   "source": [
    "os.getcwd()"
   ]
  },
  {
   "cell_type": "code",
   "execution_count": 6,
   "id": "46d98a9d",
   "metadata": {},
   "outputs": [
    {
     "data": {
      "text/plain": [
       "['REU2021',\n",
       " 'Java Programming',\n",
       " 'Networks & Networking',\n",
       " 'Graduation-Application-2021-fillable.pdf',\n",
       " '1D mini cutouts - Google Docs.pdf',\n",
       " '.DS_Store',\n",
       " 'mel disney Booking Confirmation.pdf',\n",
       " '.localized',\n",
       " '~$ny research resume 2021.docx',\n",
       " 'UC Taxes Q2 2021.pdf',\n",
       " 'HP Spectre Receipt.pdf',\n",
       " '~$I Model Lab.docx',\n",
       " 'Screen Shot 2021-06-08 at 12.43.50 PM.png',\n",
       " '2021-2022 Confirmation Page - FAFSA on the Web - Federal Student Aid.pdf',\n",
       " 'Lecture Slides 3rd Edition',\n",
       " 'Analysis versus Summary.doc',\n",
       " 'IMG_5510.JPG',\n",
       " 'Screen Shot 2019-03-01 at 11.13.54 AM.png',\n",
       " '3807790852_receipt_31.5.2021.pdf',\n",
       " 'Microsoft Word - IMMUNIZATION FORM - web edited 072809.doc.pdf',\n",
       " 'CUNY',\n",
       " 'disney Booking Confirmation.pdf',\n",
       " 'Screen Shot 2021-06-08 at 12.11.40 PM.png',\n",
       " 'Awkwafina dog.jpeg',\n",
       " 'Screen Shot 2018-05-25 at 6.41.17 PM.png']"
      ]
     },
     "execution_count": 6,
     "metadata": {},
     "output_type": "execute_result"
    }
   ],
   "source": [
    "os.listdir()"
   ]
  },
  {
   "cell_type": "code",
   "execution_count": 7,
   "id": "19ce84f2",
   "metadata": {},
   "outputs": [],
   "source": [
    "os.mkdir('new_directory')"
   ]
  },
  {
   "cell_type": "code",
   "execution_count": 8,
   "id": "218e9f80",
   "metadata": {},
   "outputs": [
    {
     "data": {
      "text/plain": [
       "['REU2021',\n",
       " 'Java Programming',\n",
       " 'Networks & Networking',\n",
       " 'Graduation-Application-2021-fillable.pdf',\n",
       " '1D mini cutouts - Google Docs.pdf',\n",
       " '.DS_Store',\n",
       " 'mel disney Booking Confirmation.pdf',\n",
       " '.localized',\n",
       " '~$ny research resume 2021.docx',\n",
       " 'UC Taxes Q2 2021.pdf',\n",
       " 'HP Spectre Receipt.pdf',\n",
       " 'new_directory',\n",
       " '~$I Model Lab.docx',\n",
       " 'Screen Shot 2021-06-08 at 12.43.50 PM.png',\n",
       " '2021-2022 Confirmation Page - FAFSA on the Web - Federal Student Aid.pdf',\n",
       " 'Lecture Slides 3rd Edition',\n",
       " 'Analysis versus Summary.doc',\n",
       " 'IMG_5510.JPG',\n",
       " 'Screen Shot 2019-03-01 at 11.13.54 AM.png',\n",
       " '3807790852_receipt_31.5.2021.pdf',\n",
       " 'Microsoft Word - IMMUNIZATION FORM - web edited 072809.doc.pdf',\n",
       " 'CUNY',\n",
       " 'disney Booking Confirmation.pdf',\n",
       " 'Screen Shot 2021-06-08 at 12.11.40 PM.png',\n",
       " 'Awkwafina dog.jpeg',\n",
       " 'Screen Shot 2018-05-25 at 6.41.17 PM.png']"
      ]
     },
     "execution_count": 8,
     "metadata": {},
     "output_type": "execute_result"
    }
   ],
   "source": [
    "os.listdir()"
   ]
  },
  {
   "cell_type": "code",
   "execution_count": 9,
   "id": "42f60acc",
   "metadata": {},
   "outputs": [],
   "source": [
    "os.chdir('/Users/mac')"
   ]
  },
  {
   "cell_type": "code",
   "execution_count": 11,
   "id": "219ae47d",
   "metadata": {},
   "outputs": [
    {
     "data": {
      "text/plain": [
       "['Redshift.py',\n",
       " 'Screen Shot 2021-06-07 at 12.13.32 PM.png',\n",
       " 'Screen Shot 2021-06-08 at 9.22.11 AM.png',\n",
       " 'citiCompletionReport10181992.pdf',\n",
       " '.DS_Store',\n",
       " 'Hidden AGN in dwarf galaxies revealed by MaNGA- light echoes, off-nuclear wanderers, and a new broad-line AGN.pdf',\n",
       " 'Multimessenger Signatures of Massive Black Holes in Dwarf Galaxies.pdf',\n",
       " 'readcol.py',\n",
       " 'Screen Shot 2021-06-08 at 9.22.19 AM.png',\n",
       " 'times.list',\n",
       " 'SDSS-IV MaNGA- Evidence of the importance of AGN feedback in low-mass galaxies.pdf',\n",
       " '.git']"
      ]
     },
     "execution_count": 11,
     "metadata": {},
     "output_type": "execute_result"
    }
   ],
   "source": [
    "os.listdir('/Users/mac/Desktop/REU2021')"
   ]
  },
  {
   "cell_type": "code",
   "execution_count": 15,
   "id": "b8d3884d",
   "metadata": {},
   "outputs": [
    {
     "data": {
      "text/plain": [
       "True"
      ]
     },
     "execution_count": 15,
     "metadata": {},
     "output_type": "execute_result"
    }
   ],
   "source": [
    "os.path.isfile('/Users/mac/Desktop/REU2021/Redshift.py')"
   ]
  },
  {
   "cell_type": "code",
   "execution_count": 16,
   "id": "1efdca2b",
   "metadata": {},
   "outputs": [
    {
     "data": {
      "text/plain": [
       "False"
      ]
     },
     "execution_count": 16,
     "metadata": {},
     "output_type": "execute_result"
    }
   ],
   "source": [
    "os.path.isfile('/Users/mac/Desktop/times.list')"
   ]
  },
  {
   "cell_type": "code",
   "execution_count": 19,
   "id": "6aa520f9",
   "metadata": {},
   "outputs": [
    {
     "data": {
      "text/plain": [
       "True"
      ]
     },
     "execution_count": 19,
     "metadata": {},
     "output_type": "execute_result"
    }
   ],
   "source": [
    "os.path.isfile('/Users/mac/Desktop/REU2021/times.list')"
   ]
  },
  {
   "cell_type": "code",
   "execution_count": 20,
   "id": "4b697d6b",
   "metadata": {},
   "outputs": [
    {
     "data": {
      "text/plain": [
       "True"
      ]
     },
     "execution_count": 20,
     "metadata": {},
     "output_type": "execute_result"
    }
   ],
   "source": [
    "os.path.isdir('/Users/mac/Desktop/REU2021')"
   ]
  },
  {
   "cell_type": "code",
   "execution_count": null,
   "id": "6f257914",
   "metadata": {},
   "outputs": [],
   "source": []
  }
 ],
 "metadata": {
  "kernelspec": {
   "display_name": "Python 3",
   "language": "python",
   "name": "python3"
  },
  "language_info": {
   "codemirror_mode": {
    "name": "ipython",
    "version": 3
   },
   "file_extension": ".py",
   "mimetype": "text/x-python",
   "name": "python",
   "nbconvert_exporter": "python",
   "pygments_lexer": "ipython3",
   "version": "3.8.8"
  }
 },
 "nbformat": 4,
 "nbformat_minor": 5
}
