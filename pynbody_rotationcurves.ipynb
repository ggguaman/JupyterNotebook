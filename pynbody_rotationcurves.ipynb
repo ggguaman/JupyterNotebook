{
 "cells": [
  {
   "cell_type": "markdown",
   "id": "08576dc4",
   "metadata": {},
   "source": [
    "calculating rotation curve by calculating forces in a plane"
   ]
  },
  {
   "cell_type": "code",
   "execution_count": 1,
   "id": "d13dec15",
   "metadata": {},
   "outputs": [],
   "source": [
    "import pynbody"
   ]
  },
  {
   "cell_type": "code",
   "execution_count": 2,
   "id": "a6218685",
   "metadata": {},
   "outputs": [
    {
     "data": {
      "text/plain": [
       "1"
      ]
     },
     "execution_count": 2,
     "metadata": {},
     "output_type": "execute_result"
    }
   ],
   "source": [
    "#asking how many cores \n",
    "pynbody.openmp.get_cpus()"
   ]
  },
  {
   "cell_type": "code",
   "execution_count": null,
   "id": "199cb35b",
   "metadata": {},
   "outputs": [],
   "source": []
  }
 ],
 "metadata": {
  "kernelspec": {
   "display_name": "Python 3",
   "language": "python",
   "name": "python3"
  },
  "language_info": {
   "codemirror_mode": {
    "name": "ipython",
    "version": 3
   },
   "file_extension": ".py",
   "mimetype": "text/x-python",
   "name": "python",
   "nbconvert_exporter": "python",
   "pygments_lexer": "ipython3",
   "version": "3.8.8"
  }
 },
 "nbformat": 4,
 "nbformat_minor": 5
}
